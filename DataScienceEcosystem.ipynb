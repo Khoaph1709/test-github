{
 "cells": [
  {
   "cell_type": "markdown",
   "id": "ac1a61b4-bbe3-42d9-bd9a-be41f4440ee8",
   "metadata": {},
   "source": [
    "# Data Science Tools and Ecosystem\n"
   ]
  },
  {
   "cell_type": "markdown",
   "id": "ec12e443-356a-4fea-80f6-9e344f292e34",
   "metadata": {},
   "source": [
    "In this notebook, Data Science Tools and Ecosystem are summarized."
   ]
  },
  {
   "cell_type": "markdown",
   "id": "ba3731d8-ed1b-45ab-ad9b-ee47cc126fbb",
   "metadata": {},
   "source": [
    "__Objectives:__\n",
    "- List popular languages for Data Science\n",
    "- List popular libraries used by Data Scientists\n",
    "- List development environment open source tools used in data science"
   ]
  },
  {
   "cell_type": "markdown",
   "id": "094e47a4-8e6c-419b-a478-852d1b94a137",
   "metadata": {},
   "source": [
    "Some of the popular languages that Data Scientists use are:\n",
    "1. Python\n",
    "2. R\n",
    "3. SQL\n",
    "4. Java\n",
    "5. Scala\n",
    "6. JavaScipt\n",
    "7. Go"
   ]
  },
  {
   "cell_type": "markdown",
   "id": "0bb00f5c-2a80-4e42-8a5a-d6f33f8d91cd",
   "metadata": {},
   "source": [
    "Some of the commonly used libraries used by Data Scientists include:\n",
    "1. Scrapy\n",
    "2. Pandas\n",
    "3. Numpy\n",
    "4. Scikit-Learn\n",
    "5. Matplotlib \n",
    "6. Seaborn"
   ]
  },
  {
   "cell_type": "markdown",
   "id": "f15e961f-5a95-44b2-93c8-c837c910cdb2",
   "metadata": {},
   "source": [
    "|Data Science Tools|\n",
    "|------------------|\n",
    "|Anaconda|\n",
    "|Pycharm|\n",
    "|H2O|\n",
    "|AWS|\n",
    "|Hadoop|\n",
    "|Spark|"
   ]
  },
  {
   "cell_type": "markdown",
   "id": "46c5abf6-813a-4410-a5d3-1640d100e5c3",
   "metadata": {},
   "source": [
    "\n",
    "### Below are a few examples of evaluating arithmetic expressions in Python ###"
   ]
  },
  {
   "cell_type": "code",
   "execution_count": 2,
   "id": "edde5731-3f6a-434c-9fff-fea8806470aa",
   "metadata": {},
   "outputs": [
    {
     "name": "stdout",
     "output_type": "stream",
     "text": [
      "17\n"
     ]
    }
   ],
   "source": [
    "print((3 * 4) + 5)"
   ]
  },
  {
   "cell_type": "code",
   "execution_count": 5,
   "id": "cb9f3ff6-ae04-45ce-85de-7fca246c2bf3",
   "metadata": {},
   "outputs": [
    {
     "name": "stdout",
     "output_type": "stream",
     "text": [
      "3.3333333333333335\n"
     ]
    }
   ],
   "source": [
    "#This will convert 200 minutes to hours by diving by 60\n",
    "\n",
    "hours = 200/60\n",
    "print(hours)"
   ]
  },
  {
   "cell_type": "markdown",
   "id": "6eabdaad-743f-41c9-ab2a-41e73bde1db8",
   "metadata": {},
   "source": [
    "## Author ##\n",
    "TranChouDuongDen"
   ]
  },
  {
   "cell_type": "code",
   "execution_count": null,
   "id": "b5bd8f04-4718-4f3d-a5ab-c2f1ab852b49",
   "metadata": {},
   "outputs": [],
   "source": []
  }
 ],
 "metadata": {
  "kernelspec": {
   "display_name": "Python 3 (ipykernel)",
   "language": "python",
   "name": "python3"
  },
  "language_info": {
   "codemirror_mode": {
    "name": "ipython",
    "version": 3
   },
   "file_extension": ".py",
   "mimetype": "text/x-python",
   "name": "python",
   "nbconvert_exporter": "python",
   "pygments_lexer": "ipython3",
   "version": "3.12.4"
  }
 },
 "nbformat": 4,
 "nbformat_minor": 5
}
